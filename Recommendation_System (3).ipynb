{
 "cells": [
  {
   "cell_type": "code",
   "execution_count": null,
   "metadata": {},
   "outputs": [],
   "source": []
  },
  {
   "cell_type": "markdown",
   "metadata": {
    "id": "kPK5DFYhWnWH"
   },
   "source": [
    "# Business Understanding for the Movie Recommendation System\n",
    "Objective:\n",
    "\n",
    "The primary objective of the movie recommendation system is to enhance user engagement and satisfaction by providing personalized movie recommendations. By analyzing user behavior (movie ratings), the system will suggest movies that a user is likely to enjoy but has not yet watched. The recommendations will be based on the preferences of other users with similar tastes, improving the user's movie discovery experience.\n",
    "\n",
    "## Business Context:\n",
    "\n",
    "\n",
    "In today's entertainment industry, platforms like Netflix, Hulu, and Amazon Prime Video are flooded with vast movie collections. Users often find it overwhelming to sift through numerous titles to find content they would enjoy. Personalized recommendations address this problem by offering relevant movie suggestions, leading to higher customer satisfaction, increased engagement, and longer platform usage.\n",
    "\n",
    "### For streaming platforms, delivering accurate and relevant recommendations is a critical business strategy because:\n",
    "\n",
    "- Increased User Engagement: If users consistently find movies they enjoy, they will spend more time on the platform.\n",
    "Reduced Churn Rate: Personalized content increases user loyalty, reducing the likelihood that users will unsubscribe from the service.\n",
    "\n",
    "- Improved Content Discovery: Users can discover lesser-known or new movies, which broadens the diversity of the content they consume and reduces reliance on popular blockbusters.\n",
    "Revenue Maximization: Higher engagement and satisfaction can translate into increased subscription renewals, lower churn rates, and a competitive advantage in the crowded streaming market.\n",
    "\n",
    "### Key Metrics for Success:\n",
    "\n",
    "- Recommendation Accuracy: Measured by evaluating the predicted movie ratings compared to actual user ratings, using metrics like RMSE (Root Mean Squared Error).\n",
    "\n",
    "- User Engagement: The amount of time users spend on the platform after receiving recommendations (increased platform usage indicates higher engagement).\n",
    "\n",
    "\n",
    "\n",
    "## How the System Works:\n",
    "The system leverages collaborative filtering using the K-Nearest Neighbors (KNN) algorithm:\n",
    "\n",
    "User-Item Matrix: The system is built on a user-item matrix where each user has rated a set of movies.\n",
    "\n",
    "Similarity Calculation: For each target user, the system identifies other users with similar rating patterns (using cosine similarity).\n",
    "\n",
    "Movie Recommendations: Based on the ratings of these \"similar\" users (neighbors), the system recommends movies that the target user hasn’t watched yet but is likely to enjoy.\n",
    "\n",
    "### Benefits of Recommendation system to the Business:\n",
    "1. The system can provide personalized recommendations to millions of users, improving customer satisfaction without manual intervention.\n",
    "\n",
    "2. Higher Customer Lifetime Value: With relevant recommendations, users are more likely to continue using the service over a longer period, resulting in increased revenue per customer.\n",
    "\n",
    "3. The system helps expose users to a broader range of content, reducing the focus on a few popular titles and improving overall content engagement.\n",
    "\n",
    "### Challenges and Considerations:\n",
    "- Cold Start Problem: New users with no rating history may not receive accurate recommendations initially.\n",
    "\n",
    "\n",
    "- Data Sparsity: If many users rate only a small number of movies, it may be challenging to find similar users.\n",
    "\n",
    "- Scalability: As the number of users and movies increases, the recommendation system must be optimized for performance and scalability.\n"
   ]
  },
  {
   "cell_type": "markdown",
   "metadata": {
    "id": "PH3aAMLkbQ5U"
   },
   "source": [
    "## Data Understanding\n",
    "\n",
    "In this project, we'll be dealing with 4 Datasets(ratings.csv, movies.csv, tags.csv, and link.csv) which we will manipulate.\n",
    "\n",
    "### Features in the Datasets\n",
    "\n",
    "- Users Id (userId_x) - Identity of the user.\n",
    "- Movies Id (movieId) - Identity of the movies.\n",
    "- Ratings (rating) - Actual rating of the movie\n",
    "- Movie Metadata (title,genres) - Provide info about movies.\n",
    "- Tags (tags) - Provide info about the movie\n",
    "- Timestamp (timestamp_x,timestamp_y) - Represents what time rating was added."
   ]
  },
  {
   "cell_type": "markdown",
   "metadata": {
    "id": "LxFRSMogeu6M"
   },
   "source": [
    "### Importing libraries\n",
    "\n",
    "Import essential libraries for building our recommendation system. Each library has a specific role:\n",
    "\n",
    "- pandas and numpy are used for data manipulation.\n",
    "\n",
    "- scikit-learn provides machine learning algorithms and tools like train_test_split and metrics.\n",
    "\n",
    "- scipy.sparse helps with creating sparse matrices, which are efficient for large datasets.\n",
    "\n",
    "- matplotlib is used for visualization if needed."
   ]
  },
  {
   "cell_type": "code",
   "execution_count": 54,
   "metadata": {
    "id": "TtsZFR8SWvzK"
   },
   "outputs": [],
   "source": [
    "import pandas as pd       # To handle dataframes and datasets\n",
    "import numpy as np        # To perform numerical operations\n",
    "from sklearn.model_selection import train_test_split  # For splitting datasets\n",
    "from sklearn.metrics.pairwise import cosine_similarity  # To compute similarity between items\n",
    "from sklearn.metrics import mean_squared_error  # To calculate model accuracy (RMSE)\n",
    "from scipy.sparse import csr_matrix  # For creating sparse matrices (efficient memory usage)\n",
    "from sklearn.neighbors import NearestNeighbors  # KNN model for collaborative filtering\n",
    "import matplotlib.pyplot as plt # For visualisation\n",
    "import seaborn as sns  # For visualization"
   ]
  },
  {
   "cell_type": "code",
   "execution_count": 55,
   "metadata": {
    "id": "VLtqDexzfuCD"
   },
   "outputs": [],
   "source": [
    "# Load datasets into DataFrames\n",
    "df_ratings = pd.read_csv('ratings.csv')\n",
    "df_movies = pd.read_csv('movies.csv')\n",
    "df_tags = pd.read_csv('tags.csv')\n",
    "df_links = pd.read_csv('links.csv')"
   ]
  },
  {
   "cell_type": "code",
   "execution_count": 56,
   "metadata": {
    "colab": {
     "base_uri": "https://localhost:8080/"
    },
    "id": "xfj_cSqcgAmc",
    "outputId": "b9c3ed4d-555b-4a6e-83d6-67355fafaedf"
   },
   "outputs": [
    {
     "name": "stdout",
     "output_type": "stream",
     "text": [
      "   userId  movieId  rating  timestamp\n",
      "0       1        1     4.0  964982703\n",
      "1       1        3     4.0  964981247\n",
      "2       1        6     4.0  964982224\n",
      "3       1       47     5.0  964983815\n",
      "4       1       50     5.0  964982931\n"
     ]
    }
   ],
   "source": [
    "print(df_ratings.head())"
   ]
  },
  {
   "cell_type": "code",
   "execution_count": 57,
   "metadata": {
    "colab": {
     "base_uri": "https://localhost:8080/"
    },
    "id": "E-zvQCW1gE8b",
    "outputId": "ee894277-8901-4d96-cab6-490dc84d541c"
   },
   "outputs": [
    {
     "name": "stdout",
     "output_type": "stream",
     "text": [
      "   movieId                               title  \\\n",
      "0        1                    Toy Story (1995)   \n",
      "1        2                      Jumanji (1995)   \n",
      "2        3             Grumpier Old Men (1995)   \n",
      "3        4            Waiting to Exhale (1995)   \n",
      "4        5  Father of the Bride Part II (1995)   \n",
      "\n",
      "                                        genres  \n",
      "0  Adventure|Animation|Children|Comedy|Fantasy  \n",
      "1                   Adventure|Children|Fantasy  \n",
      "2                               Comedy|Romance  \n",
      "3                         Comedy|Drama|Romance  \n",
      "4                                       Comedy  \n"
     ]
    }
   ],
   "source": [
    "print(df_movies.head())"
   ]
  },
  {
   "cell_type": "code",
   "execution_count": 58,
   "metadata": {
    "colab": {
     "base_uri": "https://localhost:8080/"
    },
    "id": "sblgxXmvgNRi",
    "outputId": "383962d1-a1e1-47cc-825d-42a64878b461"
   },
   "outputs": [
    {
     "name": "stdout",
     "output_type": "stream",
     "text": [
      "   userId  movieId              tag   timestamp\n",
      "0       2    60756            funny  1445714994\n",
      "1       2    60756  Highly quotable  1445714996\n",
      "2       2    60756     will ferrell  1445714992\n",
      "3       2    89774     Boxing story  1445715207\n",
      "4       2    89774              MMA  1445715200\n"
     ]
    }
   ],
   "source": [
    "print(df_tags.head())"
   ]
  },
  {
   "cell_type": "code",
   "execution_count": 59,
   "metadata": {
    "colab": {
     "base_uri": "https://localhost:8080/"
    },
    "id": "V_gB5n8EgQN5",
    "outputId": "101a3803-0ffd-4fa3-895c-f029366a45aa"
   },
   "outputs": [
    {
     "name": "stdout",
     "output_type": "stream",
     "text": [
      "   movieId  imdbId   tmdbId\n",
      "0        1  114709    862.0\n",
      "1        2  113497   8844.0\n",
      "2        3  113228  15602.0\n",
      "3        4  114885  31357.0\n",
      "4        5  113041  11862.0\n"
     ]
    }
   ],
   "source": [
    "print(df_links.head())"
   ]
  },
  {
   "cell_type": "markdown",
   "metadata": {
    "id": "klEUiNFTuf5K"
   },
   "source": [
    "### Data Preparation\n",
    " In this step, we will merge the dataset and load into one single DataFrame to simplify dealing with missing values,dropping duplicates and feature engineering."
   ]
  },
  {
   "cell_type": "code",
   "execution_count": 60,
   "metadata": {
    "id": "7Nv8FEwAgSMy"
   },
   "outputs": [],
   "source": [
    "# Merge the datasets on 'movieId'\n",
    "df_merged = df_ratings.merge(df_movies, on='movieId', how='left') \\\n",
    "                       .merge(df_tags, on=['userId', 'movieId'], how='left') \\\n",
    "                       .merge(df_links, on='movieId', how='left')\n",
    "\n"
   ]
  },
  {
   "cell_type": "code",
   "execution_count": 61,
   "metadata": {
    "colab": {
     "base_uri": "https://localhost:8080/",
     "height": 400
    },
    "id": "dHskd7c9vQIK",
    "outputId": "4fabad86-8c81-4eb0-ebd7-8ee4d2ab0868"
   },
   "outputs": [
    {
     "data": {
      "text/html": [
       "<div>\n",
       "<style scoped>\n",
       "    .dataframe tbody tr th:only-of-type {\n",
       "        vertical-align: middle;\n",
       "    }\n",
       "\n",
       "    .dataframe tbody tr th {\n",
       "        vertical-align: top;\n",
       "    }\n",
       "\n",
       "    .dataframe thead th {\n",
       "        text-align: right;\n",
       "    }\n",
       "</style>\n",
       "<table border=\"1\" class=\"dataframe\">\n",
       "  <thead>\n",
       "    <tr style=\"text-align: right;\">\n",
       "      <th></th>\n",
       "      <th>userId</th>\n",
       "      <th>movieId</th>\n",
       "      <th>rating</th>\n",
       "      <th>timestamp_x</th>\n",
       "      <th>title</th>\n",
       "      <th>genres</th>\n",
       "      <th>tag</th>\n",
       "      <th>timestamp_y</th>\n",
       "      <th>imdbId</th>\n",
       "      <th>tmdbId</th>\n",
       "    </tr>\n",
       "  </thead>\n",
       "  <tbody>\n",
       "    <tr>\n",
       "      <th>0</th>\n",
       "      <td>1</td>\n",
       "      <td>1</td>\n",
       "      <td>4.0</td>\n",
       "      <td>964982703</td>\n",
       "      <td>Toy Story (1995)</td>\n",
       "      <td>Adventure|Animation|Children|Comedy|Fantasy</td>\n",
       "      <td>NaN</td>\n",
       "      <td>NaN</td>\n",
       "      <td>114709</td>\n",
       "      <td>862.0</td>\n",
       "    </tr>\n",
       "    <tr>\n",
       "      <th>1</th>\n",
       "      <td>1</td>\n",
       "      <td>3</td>\n",
       "      <td>4.0</td>\n",
       "      <td>964981247</td>\n",
       "      <td>Grumpier Old Men (1995)</td>\n",
       "      <td>Comedy|Romance</td>\n",
       "      <td>NaN</td>\n",
       "      <td>NaN</td>\n",
       "      <td>113228</td>\n",
       "      <td>15602.0</td>\n",
       "    </tr>\n",
       "    <tr>\n",
       "      <th>2</th>\n",
       "      <td>1</td>\n",
       "      <td>6</td>\n",
       "      <td>4.0</td>\n",
       "      <td>964982224</td>\n",
       "      <td>Heat (1995)</td>\n",
       "      <td>Action|Crime|Thriller</td>\n",
       "      <td>NaN</td>\n",
       "      <td>NaN</td>\n",
       "      <td>113277</td>\n",
       "      <td>949.0</td>\n",
       "    </tr>\n",
       "    <tr>\n",
       "      <th>3</th>\n",
       "      <td>1</td>\n",
       "      <td>47</td>\n",
       "      <td>5.0</td>\n",
       "      <td>964983815</td>\n",
       "      <td>Seven (a.k.a. Se7en) (1995)</td>\n",
       "      <td>Mystery|Thriller</td>\n",
       "      <td>NaN</td>\n",
       "      <td>NaN</td>\n",
       "      <td>114369</td>\n",
       "      <td>807.0</td>\n",
       "    </tr>\n",
       "    <tr>\n",
       "      <th>4</th>\n",
       "      <td>1</td>\n",
       "      <td>50</td>\n",
       "      <td>5.0</td>\n",
       "      <td>964982931</td>\n",
       "      <td>Usual Suspects, The (1995)</td>\n",
       "      <td>Crime|Mystery|Thriller</td>\n",
       "      <td>NaN</td>\n",
       "      <td>NaN</td>\n",
       "      <td>114814</td>\n",
       "      <td>629.0</td>\n",
       "    </tr>\n",
       "  </tbody>\n",
       "</table>\n",
       "</div>"
      ],
      "text/plain": [
       "   userId  movieId  rating  timestamp_x                        title  \\\n",
       "0       1        1     4.0    964982703             Toy Story (1995)   \n",
       "1       1        3     4.0    964981247      Grumpier Old Men (1995)   \n",
       "2       1        6     4.0    964982224                  Heat (1995)   \n",
       "3       1       47     5.0    964983815  Seven (a.k.a. Se7en) (1995)   \n",
       "4       1       50     5.0    964982931   Usual Suspects, The (1995)   \n",
       "\n",
       "                                        genres  tag  timestamp_y  imdbId  \\\n",
       "0  Adventure|Animation|Children|Comedy|Fantasy  NaN          NaN  114709   \n",
       "1                               Comedy|Romance  NaN          NaN  113228   \n",
       "2                        Action|Crime|Thriller  NaN          NaN  113277   \n",
       "3                             Mystery|Thriller  NaN          NaN  114369   \n",
       "4                       Crime|Mystery|Thriller  NaN          NaN  114814   \n",
       "\n",
       "    tmdbId  \n",
       "0    862.0  \n",
       "1  15602.0  \n",
       "2    949.0  \n",
       "3    807.0  \n",
       "4    629.0  "
      ]
     },
     "execution_count": 61,
     "metadata": {},
     "output_type": "execute_result"
    }
   ],
   "source": [
    "#Inspecting the Dataframe\n",
    "df_merged.head()"
   ]
  },
  {
   "cell_type": "code",
   "execution_count": 62,
   "metadata": {
    "colab": {
     "base_uri": "https://localhost:8080/"
    },
    "id": "BcEtp-ABwy-4",
    "outputId": "fb4ee842-a2e7-4080-d26e-e02cf8a2e5ee"
   },
   "outputs": [
    {
     "name": "stdout",
     "output_type": "stream",
     "text": [
      "<class 'pandas.core.frame.DataFrame'>\n",
      "Int64Index: 102677 entries, 0 to 102676\n",
      "Data columns (total 10 columns):\n",
      " #   Column       Non-Null Count   Dtype  \n",
      "---  ------       --------------   -----  \n",
      " 0   userId       102677 non-null  int64  \n",
      " 1   movieId      102677 non-null  int64  \n",
      " 2   rating       102677 non-null  float64\n",
      " 3   timestamp_x  102677 non-null  int64  \n",
      " 4   title        102677 non-null  object \n",
      " 5   genres       102677 non-null  object \n",
      " 6   tag          3476 non-null    object \n",
      " 7   timestamp_y  3476 non-null    float64\n",
      " 8   imdbId       102677 non-null  int64  \n",
      " 9   tmdbId       102664 non-null  float64\n",
      "dtypes: float64(3), int64(4), object(3)\n",
      "memory usage: 8.6+ MB\n",
      "None\n",
      "(102677, 10)\n"
     ]
    }
   ],
   "source": [
    "#Summary of the DataFrame\n",
    "print(df_merged.info())\n",
    "\n",
    "#Inspect the shape of the data\n",
    "print(df_merged.shape)\n"
   ]
  },
  {
   "cell_type": "markdown",
   "metadata": {
    "id": "y384hwS_xlrj"
   },
   "source": [
    "Our Dataset merged contains 10 columns and 102677 rows."
   ]
  },
  {
   "cell_type": "code",
   "execution_count": 63,
   "metadata": {
    "colab": {
     "base_uri": "https://localhost:8080/",
     "height": 398
    },
    "id": "aaKhheH-xdPU",
    "outputId": "c25822a7-5536-404a-ef66-eb6a2590c1bc"
   },
   "outputs": [
    {
     "data": {
      "text/plain": [
       "userId             0\n",
       "movieId            0\n",
       "rating             0\n",
       "timestamp_x        0\n",
       "title              0\n",
       "genres             0\n",
       "tag            99201\n",
       "timestamp_y    99201\n",
       "imdbId             0\n",
       "tmdbId            13\n",
       "dtype: int64"
      ]
     },
     "execution_count": 63,
     "metadata": {},
     "output_type": "execute_result"
    }
   ],
   "source": [
    "#Inspecting missing values\n",
    "df_merged.isnull().sum()"
   ]
  },
  {
   "cell_type": "code",
   "execution_count": 64,
   "metadata": {},
   "outputs": [
    {
     "data": {
      "text/html": [
       "<div>\n",
       "<style scoped>\n",
       "    .dataframe tbody tr th:only-of-type {\n",
       "        vertical-align: middle;\n",
       "    }\n",
       "\n",
       "    .dataframe tbody tr th {\n",
       "        vertical-align: top;\n",
       "    }\n",
       "\n",
       "    .dataframe thead th {\n",
       "        text-align: right;\n",
       "    }\n",
       "</style>\n",
       "<table border=\"1\" class=\"dataframe\">\n",
       "  <thead>\n",
       "    <tr style=\"text-align: right;\">\n",
       "      <th></th>\n",
       "      <th>userId</th>\n",
       "      <th>movieId</th>\n",
       "      <th>rating</th>\n",
       "      <th>timestamp_x</th>\n",
       "      <th>timestamp_y</th>\n",
       "      <th>imdbId</th>\n",
       "      <th>tmdbId</th>\n",
       "    </tr>\n",
       "  </thead>\n",
       "  <tbody>\n",
       "    <tr>\n",
       "      <th>count</th>\n",
       "      <td>102677.000000</td>\n",
       "      <td>102677.000000</td>\n",
       "      <td>102677.000000</td>\n",
       "      <td>1.026770e+05</td>\n",
       "      <td>3.476000e+03</td>\n",
       "      <td>1.026770e+05</td>\n",
       "      <td>102664.000000</td>\n",
       "    </tr>\n",
       "    <tr>\n",
       "      <th>mean</th>\n",
       "      <td>327.761933</td>\n",
       "      <td>19742.712623</td>\n",
       "      <td>3.514813</td>\n",
       "      <td>1.209495e+09</td>\n",
       "      <td>1.323525e+09</td>\n",
       "      <td>3.564994e+05</td>\n",
       "      <td>20476.871289</td>\n",
       "    </tr>\n",
       "    <tr>\n",
       "      <th>std</th>\n",
       "      <td>183.211289</td>\n",
       "      <td>35884.400990</td>\n",
       "      <td>1.043133</td>\n",
       "      <td>2.170117e+08</td>\n",
       "      <td>1.731554e+08</td>\n",
       "      <td>6.295717e+05</td>\n",
       "      <td>54097.633332</td>\n",
       "    </tr>\n",
       "    <tr>\n",
       "      <th>min</th>\n",
       "      <td>1.000000</td>\n",
       "      <td>1.000000</td>\n",
       "      <td>0.500000</td>\n",
       "      <td>8.281246e+08</td>\n",
       "      <td>1.137179e+09</td>\n",
       "      <td>4.170000e+02</td>\n",
       "      <td>2.000000</td>\n",
       "    </tr>\n",
       "    <tr>\n",
       "      <th>25%</th>\n",
       "      <td>177.000000</td>\n",
       "      <td>1199.000000</td>\n",
       "      <td>3.000000</td>\n",
       "      <td>1.019138e+09</td>\n",
       "      <td>1.138032e+09</td>\n",
       "      <td>9.971000e+04</td>\n",
       "      <td>710.000000</td>\n",
       "    </tr>\n",
       "    <tr>\n",
       "      <th>50%</th>\n",
       "      <td>328.000000</td>\n",
       "      <td>3005.000000</td>\n",
       "      <td>3.500000</td>\n",
       "      <td>1.186590e+09</td>\n",
       "      <td>1.279956e+09</td>\n",
       "      <td>1.188420e+05</td>\n",
       "      <td>6950.000000</td>\n",
       "    </tr>\n",
       "    <tr>\n",
       "      <th>75%</th>\n",
       "      <td>477.000000</td>\n",
       "      <td>8366.000000</td>\n",
       "      <td>4.000000</td>\n",
       "      <td>1.439916e+09</td>\n",
       "      <td>1.498457e+09</td>\n",
       "      <td>3.172480e+05</td>\n",
       "      <td>11673.000000</td>\n",
       "    </tr>\n",
       "    <tr>\n",
       "      <th>max</th>\n",
       "      <td>610.000000</td>\n",
       "      <td>193609.000000</td>\n",
       "      <td>5.000000</td>\n",
       "      <td>1.537799e+09</td>\n",
       "      <td>1.537099e+09</td>\n",
       "      <td>8.391976e+06</td>\n",
       "      <td>525662.000000</td>\n",
       "    </tr>\n",
       "  </tbody>\n",
       "</table>\n",
       "</div>"
      ],
      "text/plain": [
       "              userId        movieId         rating   timestamp_x  \\\n",
       "count  102677.000000  102677.000000  102677.000000  1.026770e+05   \n",
       "mean      327.761933   19742.712623       3.514813  1.209495e+09   \n",
       "std       183.211289   35884.400990       1.043133  2.170117e+08   \n",
       "min         1.000000       1.000000       0.500000  8.281246e+08   \n",
       "25%       177.000000    1199.000000       3.000000  1.019138e+09   \n",
       "50%       328.000000    3005.000000       3.500000  1.186590e+09   \n",
       "75%       477.000000    8366.000000       4.000000  1.439916e+09   \n",
       "max       610.000000  193609.000000       5.000000  1.537799e+09   \n",
       "\n",
       "        timestamp_y        imdbId         tmdbId  \n",
       "count  3.476000e+03  1.026770e+05  102664.000000  \n",
       "mean   1.323525e+09  3.564994e+05   20476.871289  \n",
       "std    1.731554e+08  6.295717e+05   54097.633332  \n",
       "min    1.137179e+09  4.170000e+02       2.000000  \n",
       "25%    1.138032e+09  9.971000e+04     710.000000  \n",
       "50%    1.279956e+09  1.188420e+05    6950.000000  \n",
       "75%    1.498457e+09  3.172480e+05   11673.000000  \n",
       "max    1.537099e+09  8.391976e+06  525662.000000  "
      ]
     },
     "execution_count": 64,
     "metadata": {},
     "output_type": "execute_result"
    }
   ],
   "source": [
    "df_merged.describe()"
   ]
  },
  {
   "cell_type": "markdown",
   "metadata": {
    "id": "MaUocePbyNWn"
   },
   "source": [
    "Our Dataset is loking pretty good since we have few columns with missing values.Since the 'tag' & 'timestamp_y' columns have a lot of missing values(90%), we can drop them as they provide insignificant information."
   ]
  },
  {
   "cell_type": "code",
   "execution_count": 65,
   "metadata": {
    "id": "oUmHWxqRyBYz"
   },
   "outputs": [],
   "source": [
    "#Dropping 'tag' & 'timestamp_y' from our Data\n",
    "df_merged.drop(['tag', 'timestamp_y'], axis=1, inplace=True)"
   ]
  },
  {
   "cell_type": "code",
   "execution_count": 66,
   "metadata": {
    "colab": {
     "base_uri": "https://localhost:8080/"
    },
    "id": "Q487CHGwzhcm",
    "outputId": "179162c3-35c6-4eb7-e594-23fb9bf5e869"
   },
   "outputs": [],
   "source": [
    "#Filling 'tmbd' column with the mean\n",
    "df_merged['tmdbId'].fillna(df_merged['tmdbId'].mean(), inplace=True)\n"
   ]
  },
  {
   "cell_type": "code",
   "execution_count": 67,
   "metadata": {
    "colab": {
     "base_uri": "https://localhost:8080/",
     "height": 335
    },
    "id": "_zn2IS2w0end",
    "outputId": "3492297d-9253-4364-9cfb-5a4c5fb677b5"
   },
   "outputs": [
    {
     "data": {
      "text/plain": [
       "userId         0\n",
       "movieId        0\n",
       "rating         0\n",
       "timestamp_x    0\n",
       "title          0\n",
       "genres         0\n",
       "imdbId         0\n",
       "tmdbId         0\n",
       "dtype: int64"
      ]
     },
     "execution_count": 67,
     "metadata": {},
     "output_type": "execute_result"
    }
   ],
   "source": [
    "df_merged.isnull().sum()"
   ]
  },
  {
   "cell_type": "markdown",
   "metadata": {
    "id": "tMqSKlh00sj6"
   },
   "source": [
    "The dataset is now clean and we can now proceed with the feature engineering."
   ]
  },
  {
   "cell_type": "markdown",
   "metadata": {
    "id": "wFlKha822qhL"
   },
   "source": [
    "### Feature Engineering"
   ]
  },
  {
   "cell_type": "code",
   "execution_count": 68,
   "metadata": {
    "id": "REzjeDqe0qLO"
   },
   "outputs": [],
   "source": [
    "#Dropping duplicates\n",
    "df_merged.drop_duplicates(inplace=True)"
   ]
  },
  {
   "cell_type": "code",
   "execution_count": 69,
   "metadata": {
    "colab": {
     "base_uri": "https://localhost:8080/",
     "height": 458
    },
    "id": "6DAOyM3-2mND",
    "outputId": "404cb7da-8652-4032-90b2-6bc3fd213f75"
   },
   "outputs": [
    {
     "data": {
      "text/plain": [
       "0         1995\n",
       "1         1995\n",
       "2         1995\n",
       "3         1995\n",
       "4         1995\n",
       "          ... \n",
       "102672    2017\n",
       "102673    2017\n",
       "102674    2017\n",
       "102675    2017\n",
       "102676    2017\n",
       "Name: year, Length: 100836, dtype: object"
      ]
     },
     "execution_count": 69,
     "metadata": {},
     "output_type": "execute_result"
    }
   ],
   "source": [
    "#Year Extraction: Extract the year from the 'title' column.\n",
    "df_merged['year'] = df_merged['title'].str.extract(r'\\((\\d{4})\\)')\n",
    "df_merged['year']"
   ]
  },
  {
   "cell_type": "code",
   "execution_count": 70,
   "metadata": {
    "colab": {
     "base_uri": "https://localhost:8080/",
     "height": 380
    },
    "id": "RrQ4gH1u2mJP",
    "outputId": "07810ea7-1004-41b0-bea4-75cd8ee7b1f9"
   },
   "outputs": [
    {
     "data": {
      "text/html": [
       "<div>\n",
       "<style scoped>\n",
       "    .dataframe tbody tr th:only-of-type {\n",
       "        vertical-align: middle;\n",
       "    }\n",
       "\n",
       "    .dataframe tbody tr th {\n",
       "        vertical-align: top;\n",
       "    }\n",
       "\n",
       "    .dataframe thead th {\n",
       "        text-align: right;\n",
       "    }\n",
       "</style>\n",
       "<table border=\"1\" class=\"dataframe\">\n",
       "  <thead>\n",
       "    <tr style=\"text-align: right;\">\n",
       "      <th></th>\n",
       "      <th>userId</th>\n",
       "      <th>movieId</th>\n",
       "      <th>rating</th>\n",
       "      <th>timestamp_x</th>\n",
       "      <th>title</th>\n",
       "      <th>genres</th>\n",
       "      <th>imdbId</th>\n",
       "      <th>tmdbId</th>\n",
       "      <th>year</th>\n",
       "    </tr>\n",
       "  </thead>\n",
       "  <tbody>\n",
       "    <tr>\n",
       "      <th>0</th>\n",
       "      <td>1</td>\n",
       "      <td>1</td>\n",
       "      <td>4.0</td>\n",
       "      <td>964982703</td>\n",
       "      <td>Toy Story (1995)</td>\n",
       "      <td>Adventure</td>\n",
       "      <td>114709</td>\n",
       "      <td>862.0</td>\n",
       "      <td>1995</td>\n",
       "    </tr>\n",
       "    <tr>\n",
       "      <th>0</th>\n",
       "      <td>1</td>\n",
       "      <td>1</td>\n",
       "      <td>4.0</td>\n",
       "      <td>964982703</td>\n",
       "      <td>Toy Story (1995)</td>\n",
       "      <td>Animation</td>\n",
       "      <td>114709</td>\n",
       "      <td>862.0</td>\n",
       "      <td>1995</td>\n",
       "    </tr>\n",
       "    <tr>\n",
       "      <th>0</th>\n",
       "      <td>1</td>\n",
       "      <td>1</td>\n",
       "      <td>4.0</td>\n",
       "      <td>964982703</td>\n",
       "      <td>Toy Story (1995)</td>\n",
       "      <td>Children</td>\n",
       "      <td>114709</td>\n",
       "      <td>862.0</td>\n",
       "      <td>1995</td>\n",
       "    </tr>\n",
       "    <tr>\n",
       "      <th>0</th>\n",
       "      <td>1</td>\n",
       "      <td>1</td>\n",
       "      <td>4.0</td>\n",
       "      <td>964982703</td>\n",
       "      <td>Toy Story (1995)</td>\n",
       "      <td>Comedy</td>\n",
       "      <td>114709</td>\n",
       "      <td>862.0</td>\n",
       "      <td>1995</td>\n",
       "    </tr>\n",
       "    <tr>\n",
       "      <th>0</th>\n",
       "      <td>1</td>\n",
       "      <td>1</td>\n",
       "      <td>4.0</td>\n",
       "      <td>964982703</td>\n",
       "      <td>Toy Story (1995)</td>\n",
       "      <td>Fantasy</td>\n",
       "      <td>114709</td>\n",
       "      <td>862.0</td>\n",
       "      <td>1995</td>\n",
       "    </tr>\n",
       "  </tbody>\n",
       "</table>\n",
       "</div>"
      ],
      "text/plain": [
       "   userId  movieId  rating  timestamp_x             title     genres  imdbId  \\\n",
       "0       1        1     4.0    964982703  Toy Story (1995)  Adventure  114709   \n",
       "0       1        1     4.0    964982703  Toy Story (1995)  Animation  114709   \n",
       "0       1        1     4.0    964982703  Toy Story (1995)   Children  114709   \n",
       "0       1        1     4.0    964982703  Toy Story (1995)     Comedy  114709   \n",
       "0       1        1     4.0    964982703  Toy Story (1995)    Fantasy  114709   \n",
       "\n",
       "   tmdbId  year  \n",
       "0   862.0  1995  \n",
       "0   862.0  1995  \n",
       "0   862.0  1995  \n",
       "0   862.0  1995  \n",
       "0   862.0  1995  "
      ]
     },
     "execution_count": 70,
     "metadata": {},
     "output_type": "execute_result"
    }
   ],
   "source": [
    "#Convert genres into a more usable format.\n",
    "df_merged['genres'] = df_merged['genres'].str.split('|')\n",
    "df_merged = df_merged.explode('genres')\n",
    "df_merged.head()"
   ]
  },
  {
   "cell_type": "markdown",
   "metadata": {
    "id": "Qw4TYkVO4Bfo"
   },
   "source": [
    "### Performing Exploratory Data Analysis\n",
    "\n",
    "#### Univariate"
   ]
  },
  {
   "cell_type": "code",
   "execution_count": 71,
   "metadata": {
    "colab": {
     "base_uri": "https://localhost:8080/",
     "height": 454
    },
    "id": "coJjVwZV2l-t",
    "outputId": "3c489b5c-dd19-4b42-fb13-eabbd21f0817"
   },
   "outputs": [
    {
     "data": {
      "image/png": "[encoded data removed]",
      "text/plain": [
       "<Figure size 720x432 with 1 Axes>"
      ]
     },
     "metadata": {},
     "output_type": "display_data"
    }
   ],
   "source": [
    "# Set the aesthetic style of the plots\n",
    "sns.set(style=\"whitegrid\")\n",
    "\n",
    "# Plot the distribution of ratings\n",
    "plt.figure(figsize=(10, 6))\n",
    "sns.histplot(df_merged['rating'], bins=10, kde=True, color='blue')\n",
    "plt.title('Distribution of Movie Ratings')\n",
    "plt.xlabel('Rating')\n",
    "plt.ylabel('Frequency')\n",
    "plt.xticks(ticks=[i for i in range(1,6)])  # Assuming ratings are from 1 to 6\n",
    "plt.show()"
   ]
  },
  {
   "cell_type": "code",
   "execution_count": 72,
   "metadata": {
    "colab": {
     "base_uri": "https://localhost:8080/",
     "height": 1000
    },
    "id": "Luk-gSkI2lt7",
    "outputId": "3904700e-3933-4995-cd53-f522643de652"
   },
   "outputs": [
    {
     "data": {
      "image/png": "[encoded data removed]",
      "text/plain": [
       "<Figure size 864x432 with 1 Axes>"
      ]
     },
     "metadata": {},
     "output_type": "display_data"
    }
   ],
   "source": [
    "# Calculate the number of movies released per year\n",
    "top_years = df_merged['year'].value_counts().nlargest(20)\n",
    "\n",
    "# Plot the distribution of movies by year (top 20)\n",
    "plt.figure(figsize=(12, 6))\n",
    "sns.barplot(x=top_years.index, y=top_years.values, palette='viridis')\n",
    "plt.title('Top 20 Years with Most Movie Releases')\n",
    "plt.xlabel('Year')\n",
    "plt.ylabel('Number of Movies')\n",
    "plt.xticks(rotation=45)\n",
    "plt.show()\n"
   ]
  },
  {
   "cell_type": "markdown",
   "metadata": {
    "id": "YBmIwYnx-V6h"
   },
   "source": [
    "#### Bivariate Analysis\n",
    "Relationship between two variables."
   ]
  },
  {
   "cell_type": "code",
   "execution_count": 73,
   "metadata": {
    "colab": {
     "base_uri": "https://localhost:8080/",
     "height": 472
    },
    "id": "3CAWD9rvAxt2",
    "outputId": "caf891b7-e379-4c16-e9af-388e506742e2"
   },
   "outputs": [
    {
     "data": {
      "image/png": "[encoded data removed]",
      "text/plain": [
       "<Figure size 864x432 with 1 Axes>"
      ]
     },
     "metadata": {},
     "output_type": "display_data"
    }
   ],
   "source": [
    "# Analyze the number of genreof movies per genre\n",
    "plt.figure(figsize=(12, 6))\n",
    "sns.countplot(x='genres', data=df_merged, order=df_merged['genres'].value_counts().index)\n",
    "plt.title('Number of Movies per Genre')\n",
    "plt.xlabel('Genre')\n",
    "plt.ylabel('Count')\n",
    "plt.xticks(rotation=90)\n",
    "plt.show()"
   ]
  },
  {
   "cell_type": "code",
   "execution_count": 74,
   "metadata": {
    "colab": {
     "base_uri": "https://localhost:8080/",
     "height": 562
    },
    "id": "YhvSkJRh_oiE",
    "outputId": "bba2e3ba-e187-4bc8-e08a-108d54418157"
   },
   "outputs": [
    {
     "data": {
      "image/png": "[encoded data removed]",
      "text/plain": [
       "<Figure size 720x576 with 1 Axes>"
      ]
     },
     "metadata": {},
     "output_type": "display_data"
    }
   ],
   "source": [
    "# Group by genre and count the number of ratings for each movie\n",
    "df_genres_ratings = df_merged.groupby('genres')['rating'].count().sort_values(ascending=False).head(10)\n",
    "genres_ratings_summary = pd.DataFrame({'genres': df_genres_ratings.index, 'rating_count': df_genres_ratings.values})\n",
    "# Explore the relationship between the number of ratings and the average rating\n",
    "plt.figure(figsize=(10, 8))\n",
    "\n",
    "# Use the 'genres_ratings_summary' DataFrame, which includes both the rating counts and average ratings\n",
    "sns.barplot(x='rating_count', y='genres', data=genres_ratings_summary)\n",
    "plt.title('Top 20 Genres by Number of Ratings')\n",
    "plt.xlabel('Number of Ratings')\n",
    "plt.ylabel('Genres')\n",
    "plt.show()"
   ]
  },
  {
   "cell_type": "code",
   "execution_count": 75,
   "metadata": {
    "colab": {
     "base_uri": "https://localhost:8080/",
     "height": 472
    },
    "id": "AiBLgAXG_8rk",
    "outputId": "de5241eb-c539-4f54-9449-53a2f256d525"
   },
   "outputs": [
    {
     "data": {
      "image/png": "[encoded data removed]",
      "text/plain": [
       "<Figure size 864x432 with 1 Axes>"
      ]
     },
     "metadata": {},
     "output_type": "display_data"
    }
   ],
   "source": [
    "# Group by genre and count the number of movies in each genre\n",
    "genre_popularity = df_merged.groupby('genres')['movieId'].count().sort_values(ascending=False)\n",
    "\n",
    "\n",
    "# Plot the popularity of genres\n",
    "plt.figure(figsize=(12, 6))\n",
    "sns.barplot(x=genre_popularity.index, y=genre_popularity.values)\n",
    "plt.title('Popularity of Movie Genres')\n",
    "plt.xlabel('Genre')\n",
    "plt.ylabel('Number of Movies')\n",
    "plt.xticks(rotation=90)\n",
    "plt.show()"
   ]
  },
  {
   "cell_type": "code",
   "execution_count": 76,
   "metadata": {
    "colab": {
     "base_uri": "https://localhost:8080/",
     "height": 545
    },
    "id": "SE3ytBqsE1CI",
    "outputId": "bc4ff506-03a4-48dc-bb1e-83e241be55e4"
   },
   "outputs": [
    {
     "data": {
      "image/png": "[encoded data removed]",
      "text/plain": [
       "<Figure size 864x576 with 2 Axes>"
      ]
     },
     "metadata": {},
     "output_type": "display_data"
    }
   ],
   "source": [
    "# Select only numeric columns from df_merged\n",
    "numeric_df = df_merged.select_dtypes(include=['int64', 'float64'])\n",
    "\n",
    "# Calculate the correlation matrix\n",
    "correlation_matrix = numeric_df.corr()\n",
    "\n",
    "# Plot the correlation matrix\n",
    "plt.figure(figsize=(12, 8))\n",
    "sns.heatmap(correlation_matrix, annot=True, cmap='coolwarm', fmt='.2f')\n",
    "plt.title('Correlation Matrix')\n",
    "plt.show()\n"
   ]
  },
  {
   "cell_type": "markdown",
   "metadata": {
    "id": "ABC6WsW_MMVG"
   },
   "source": [
    "### Data Preprocessing\n",
    "Prepare the data for building a recommendation system. The ratings and movies datasets are merged to create a movie_ratings DataFrame. Then, we pivot the data to get a user-movie matrix where rows represent users, columns represent movies, and the values represent ratings. Missing values are filled with 0 (indicating no rating given). Finally, we convert this matrix into a sparse matrix for memory efficiency."
   ]
  },
  {
   "cell_type": "code",
   "execution_count": 77,
   "metadata": {
    "id": "7XWbUyPKFMix"
   },
   "outputs": [],
   "source": [
    "# Create a user-item matrix\n",
    "user_movie_matrix = df_merged.pivot_table(index='userId', columns='movieId', values='rating')\n",
    "\n",
    "# Fill NaN values with 0 (meaning the user hasn't rated that movie)\n",
    "user_movie_matrix = user_movie_matrix.fillna(0)\n",
    "\n",
    "# Convert the user-item matrix to a sparse matrix for efficiency\n",
    "sparse_user_movie= csr_matrix(user_movie_matrix.values)\n"
   ]
  },
  {
   "cell_type": "markdown",
   "metadata": {
    "id": "WhgUZ2N6NeOQ"
   },
   "source": [
    "+ pivot_table() creates the user-movie matrix where each user’s ratings for specific movies are stored.\n",
    "\n",
    "+ fillna(0) replaces missing values (NaN) with 0.\n",
    "\n",
    "+ csr_matrix stores the data more efficiently for matrix operations."
   ]
  },
  {
   "cell_type": "markdown",
   "metadata": {
    "id": "HOrdIUfNNmf2"
   },
   "source": [
    "### Build Collaborative Filtering Model (KNN-Based)\n",
    "\n",
    "Use the K-nearest neighbors (KNN) algorithm to find users who have similar preferences (similar movie ratings). We can later use this similarity to recommend movies. The metric used for similarity is cosine distance, which measures how similar two users' rating vect"
   ]
  },
  {
   "cell_type": "code",
   "execution_count": 78,
   "metadata": {
    "colab": {
     "base_uri": "https://localhost:8080/",
     "height": 80
    },
    "id": "bXozobUENKjK",
    "outputId": "ad6895d4-d20b-487c-be8f-12a352e3c652"
   },
   "outputs": [
    {
     "data": {
      "text/html": [
       "<style>#sk-container-id-2 {color: black;}#sk-container-id-2 pre{padding: 0;}#sk-container-id-2 div.sk-toggleable {background-color: white;}#sk-container-id-2 label.sk-toggleable__label {cursor: pointer;display: block;width: 100%;margin-bottom: 0;padding: 0.3em;box-sizing: border-box;text-align: center;}#sk-container-id-2 label.sk-toggleable__label-arrow:before {content: \"▸\";float: left;margin-right: 0.25em;color: #696969;}#sk-container-id-2 label.sk-toggleable__label-arrow:hover:before {color: black;}#sk-container-id-2 div.sk-estimator:hover label.sk-toggleable__label-arrow:before {color: black;}#sk-container-id-2 div.sk-toggleable__content {max-height: 0;max-width: 0;overflow: hidden;text-align: left;background-color: #f0f8ff;}#sk-container-id-2 div.sk-toggleable__content pre {margin: 0.2em;color: black;border-radius: 0.25em;background-color: #f0f8ff;}#sk-container-id-2 input.sk-toggleable__control:checked~div.sk-toggleable__content {max-height: 200px;max-width: 100%;overflow: auto;}#sk-container-id-2 input.sk-toggleable__control:checked~label.sk-toggleable__label-arrow:before {content: \"▾\";}#sk-container-id-2 div.sk-estimator input.sk-toggleable__control:checked~label.sk-toggleable__label {background-color: #d4ebff;}#sk-container-id-2 div.sk-label input.sk-toggleable__control:checked~label.sk-toggleable__label {background-color: #d4ebff;}#sk-container-id-2 input.sk-hidden--visually {border: 0;clip: rect(1px 1px 1px 1px);clip: rect(1px, 1px, 1px, 1px);height: 1px;margin: -1px;overflow: hidden;padding: 0;position: absolute;width: 1px;}#sk-container-id-2 div.sk-estimator {font-family: monospace;background-color: #f0f8ff;border: 1px dotted black;border-radius: 0.25em;box-sizing: border-box;margin-bottom: 0.5em;}#sk-container-id-2 div.sk-estimator:hover {background-color: #d4ebff;}#sk-container-id-2 div.sk-parallel-item::after {content: \"\";width: 100%;border-bottom: 1px solid gray;flex-grow: 1;}#sk-container-id-2 div.sk-label:hover label.sk-toggleable__label {background-color: #d4ebff;}#sk-container-id-2 div.sk-serial::before {content: \"\";position: absolute;border-left: 1px solid gray;box-sizing: border-box;top: 0;bottom: 0;left: 50%;z-index: 0;}#sk-container-id-2 div.sk-serial {display: flex;flex-direction: column;align-items: center;background-color: white;padding-right: 0.2em;padding-left: 0.2em;position: relative;}#sk-container-id-2 div.sk-item {position: relative;z-index: 1;}#sk-container-id-2 div.sk-parallel {display: flex;align-items: stretch;justify-content: center;background-color: white;position: relative;}#sk-container-id-2 div.sk-item::before, #sk-container-id-2 div.sk-parallel-item::before {content: \"\";position: absolute;border-left: 1px solid gray;box-sizing: border-box;top: 0;bottom: 0;left: 50%;z-index: -1;}#sk-container-id-2 div.sk-parallel-item {display: flex;flex-direction: column;z-index: 1;position: relative;background-color: white;}#sk-container-id-2 div.sk-parallel-item:first-child::after {align-self: flex-end;width: 50%;}#sk-container-id-2 div.sk-parallel-item:last-child::after {align-self: flex-start;width: 50%;}#sk-container-id-2 div.sk-parallel-item:only-child::after {width: 0;}#sk-container-id-2 div.sk-dashed-wrapped {border: 1px dashed gray;margin: 0 0.4em 0.5em 0.4em;box-sizing: border-box;padding-bottom: 0.4em;background-color: white;}#sk-container-id-2 div.sk-label label {font-family: monospace;font-weight: bold;display: inline-block;line-height: 1.2em;}#sk-container-id-2 div.sk-label-container {text-align: center;}#sk-container-id-2 div.sk-container {/* jupyter's `normalize.less` sets `[hidden] { display: none; }` but bootstrap.min.css set `[hidden] { display: none !important; }` so we also need the `!important` here to be able to override the default hidden behavior on the sphinx rendered scikit-learn.org. See: https://github.com/scikit-learn/scikit-learn/issues/21755 */display: inline-block !important;position: relative;}#sk-container-id-2 div.sk-text-repr-fallback {display: none;}</style><div id=\"sk-container-id-2\" class=\"sk-top-container\"><div class=\"sk-text-repr-fallback\"><pre>NearestNeighbors(algorithm=&#x27;brute&#x27;, metric=&#x27;cosine&#x27;, n_neighbors=20)</pre><b>In a Jupyter environment, please rerun this cell to show the HTML representation or trust the notebook. <br />On GitHub, the HTML representation is unable to render, please try loading this page with nbviewer.org.</b></div><div class=\"sk-container\" hidden><div class=\"sk-item\"><div class=\"sk-estimator sk-toggleable\"><input class=\"sk-toggleable__control sk-hidden--visually\" id=\"sk-estimator-id-2\" type=\"checkbox\" checked><label for=\"sk-estimator-id-2\" class=\"sk-toggleable__label sk-toggleable__label-arrow\">NearestNeighbors</label><div class=\"sk-toggleable__content\"><pre>NearestNeighbors(algorithm=&#x27;brute&#x27;, metric=&#x27;cosine&#x27;, n_neighbors=20)</pre></div></div></div></div></div>"
      ],
      "text/plain": [
       "NearestNeighbors(algorithm='brute', metric='cosine', n_neighbors=20)"
      ]
     },
     "execution_count": 78,
     "metadata": {},
     "output_type": "execute_result"
    }
   ],
   "source": [
    "# Create a NearestNeighbors model for collaborative filtering (using cosine similarity)\n",
    "model_knn = NearestNeighbors(metric='cosine', algorithm='brute', n_neighbors=20)\n",
    "\n",
    "# Fit the model to the sparse user-item matrix\n",
    "model_knn.fit(sparse_user_movie)\n"
   ]
  },
  {
   "cell_type": "code",
   "execution_count": 79,
   "metadata": {
    "id": "hVuZNWmONc_V"
   },
   "outputs": [],
   "source": [
    "# Example: Test with userId = 0 (first user), find 5 similar users\n",
    "user_id = 0\n",
    "distances, indices = model_knn.kneighbors(user_movie_matrix.iloc[user_id, :].values.reshape(1, -1), n_neighbors=6)"
   ]
  },
  {
   "cell_type": "code",
   "execution_count": 80,
   "metadata": {
    "colab": {
     "base_uri": "https://localhost:8080/"
    },
    "id": "kc4eYZ7lOCpx",
    "outputId": "8d82703b-9823-4c3e-b2d8-c384ddf4f033"
   },
   "outputs": [
    {
     "name": "stdout",
     "output_type": "stream",
     "text": [
      "Top 5 similar users to user 0: [265 312 367  56  90]\n"
     ]
    }
   ],
   "source": [
    "# Output the indices of similar users (excluding the first, which is the user itself)\n",
    "print(f\"Top 5 similar users to user {user_id}: {indices.flatten()[1:]}\")"
   ]
  },
  {
   "cell_type": "markdown",
   "metadata": {
    "id": "wK8JJj72OS7h"
   },
   "source": [
    "+ NearestNeighbors creates a KNN model using cosine distance (for finding similar users).\n",
    "\n",
    "+ kneighbors() finds the nearest users to a given user.\n",
    "\n",
    "+ indices shows the most similar users to the input user."
   ]
  },
  {
   "cell_type": "markdown",
   "metadata": {
    "id": "RRexw7txOcMt"
   },
   "source": [
    "### Generate Recommendations Based on Collaborative Filtering\n",
    "\n",
    "Now that we’ve identified similar users, we aggregate their movie ratings to generate recommendations. The higher the mean rating from similar users, the more likely the movie will be recommended"
   ]
  },
  {
   "cell_type": "code",
   "execution_count": 81,
   "metadata": {
    "id": "2I3MIaeQOUG6"
   },
   "outputs": [],
   "source": [
    "# Extract ratings from similar users\n",
    "similar_users = indices.flatten()[1:]  # Skip first index (the input user itself)\n",
    "similar_users_ratings = user_movie_matrix.iloc[similar_users]"
   ]
  },
  {
   "cell_type": "code",
   "execution_count": 82,
   "metadata": {
    "colab": {
     "base_uri": "https://localhost:8080/",
     "height": 490
    },
    "id": "OEd3hM3KOpQM",
    "outputId": "25ac31c8-d654-447a-b549-1a20915bd454"
   },
   "outputs": [
    {
     "data": {
      "text/plain": [
       "movieId\n",
       "1         2.2\n",
       "2         0.6\n",
       "3         1.2\n",
       "4         0.0\n",
       "5         0.0\n",
       "         ... \n",
       "193581    0.0\n",
       "193583    0.0\n",
       "193585    0.0\n",
       "193587    0.0\n",
       "193609    0.0\n",
       "Length: 9724, dtype: float64"
      ]
     },
     "execution_count": 82,
     "metadata": {},
     "output_type": "execute_result"
    }
   ],
   "source": [
    "# Calculate mean ratings for each movie across the similar users\n",
    "mean_ratings = similar_users_ratings.mean(axis=0)\n",
    "mean_ratings"
   ]
  },
  {
   "cell_type": "code",
   "execution_count": 83,
   "metadata": {
    "id": "mg8cvIw3Ovzk"
   },
   "outputs": [],
   "source": [
    "# Sort the mean ratings in descending order to recommend highest-rated movies\n",
    "recommended_movies = mean_ratings.sort_values(ascending=False)"
   ]
  },
  {
   "cell_type": "code",
   "execution_count": 84,
   "metadata": {
    "colab": {
     "base_uri": "https://localhost:8080/"
    },
    "id": "ZXSNqYCIO1Vu",
    "outputId": "ed5d2548-b179-4f38-d902-23bf0a5fdd2a"
   },
   "outputs": [
    {
     "name": "stdout",
     "output_type": "stream",
     "text": [
      "Top recommended movies for user 0:\n",
      "movieId\n",
      "1200     4.8\n",
      "1198     4.8\n",
      "2571     4.8\n",
      "2028     4.7\n",
      "296      4.5\n",
      "        ... \n",
      "53550    0.0\n",
      "53519    0.0\n",
      "53468    0.0\n",
      "53466    0.0\n",
      "7299     0.0\n",
      "Length: 9724, dtype: float64\n"
     ]
    }
   ],
   "source": [
    "print(f\"Top recommended movies for user {user_id}:\")\n",
    "print(recommended_movies)"
   ]
  },
  {
   "cell_type": "markdown",
   "metadata": {
    "id": "MEkxa8PaO-dH"
   },
   "source": [
    "+ We calculate the mean rating for each movie across similar users.\n",
    "\n",
    "+ Sort the movies by their average rating to find the highest-rated movies that can be recommended to the user."
   ]
  },
  {
   "cell_type": "markdown",
   "metadata": {
    "id": "RU5FyskfPAGe"
   },
   "source": [
    "### Build Content-Based Filtering System\n",
    "\n",
    "In content-based filtering, we recommend movies based on their features (like genre and tags) rather than user preferences. Here, we combine the movie genres and tags into a single metadata feature for each movie, which we’ll use to calculate content similarity."
   ]
  },
  {
   "cell_type": "code",
   "execution_count": 85,
   "metadata": {
    "id": "EyaMhiubO4d1"
   },
   "outputs": [],
   "source": [
    "# Split movie genres into individual words\n",
    "df_movies['genres'] = df_movies['genres'].str.split('|')"
   ]
  },
  {
   "cell_type": "code",
   "execution_count": 86,
   "metadata": {
    "id": "USFQ2UEmPRpu"
   },
   "outputs": [],
   "source": [
    "# Merge movies with tags (joining on movieId)\n",
    "df_movies_with_tags = pd.merge(df_movies, df_tags, on='movieId', how='left')"
   ]
  },
  {
   "cell_type": "code",
   "execution_count": 87,
   "metadata": {
    "colab": {
     "base_uri": "https://localhost:8080/"
    },
    "id": "Q8ouFQyjPZpw",
    "outputId": "665275f2-7ff0-4ac5-b933-c0d765f280c2"
   },
   "outputs": [],
   "source": [
    "# Replace NaN tags with empty strings\n",
    "df_movies_with_tags['tag'].fillna('', inplace=True)"
   ]
  },
  {
   "cell_type": "code",
   "execution_count": 88,
   "metadata": {
    "id": "U5bGCmw0Pc0f"
   },
   "outputs": [],
   "source": [
    "# Combine genres and tags into a single metadata column\n",
    "#df_movies_with_tags['metadata'] = df_movies_with_tags['genres'].apply(lambda x: ' '.join(x)) + ' ' + df_movies_with_tags['tag']\n",
    "\n",
    "# Ensure 'genres' is a list of strings\n",
    "df_movies_with_tags['metadata'] = df_movies_with_tags['genres'].apply(lambda x: ' '.join(x) if isinstance(x, list) else str(x)) + ' ' + df_movies_with_tags['tag'].fillna('')\n"
   ]
  },
  {
   "cell_type": "code",
   "execution_count": 89,
   "metadata": {
    "id": "3wbKi9AZPke4"
   },
   "outputs": [],
   "source": [
    "# Vectorize the metadata using TF-IDF (Term Frequency-Inverse Document Frequency)\n",
    "from sklearn.feature_extraction.text import TfidfVectorizer\n",
    "tfidf = TfidfVectorizer(stop_words='english')\n",
    "tfidf_matrix = tfidf.fit_transform(df_movies_with_tags['metadata'])"
   ]
  },
  {
   "cell_type": "code",
   "execution_count": 90,
   "metadata": {
    "colab": {
     "base_uri": "https://localhost:8080/"
    },
    "id": "RKU5_d23PnnR",
    "outputId": "51881f8c-1253-45ab-f59d-4a8e0914edce"
   },
   "outputs": [
    {
     "data": {
      "text/plain": [
       "array([[1.        , 1.        , 0.42714156, ..., 0.        , 0.27659812,\n",
       "        0.17866863],\n",
       "       [1.        , 1.        , 0.42714156, ..., 0.        , 0.27659812,\n",
       "        0.17866863],\n",
       "       [0.42714156, 0.42714156, 1.        , ..., 0.        , 0.27659812,\n",
       "        0.17866863],\n",
       "       ...,\n",
       "       [0.        , 0.        , 0.        , ..., 1.        , 0.        ,\n",
       "        0.        ],\n",
       "       [0.27659812, 0.27659812, 0.27659812, ..., 0.        , 1.        ,\n",
       "        0.        ],\n",
       "       [0.17866863, 0.17866863, 0.17866863, ..., 0.        , 0.        ,\n",
       "        1.        ]])"
      ]
     },
     "execution_count": 90,
     "metadata": {},
     "output_type": "execute_result"
    }
   ],
   "source": [
    "# Compute cosine similarity between movies based on their metadata\n",
    "cosine_sim = cosine_similarity(tfidf_matrix, tfidf_matrix)\n",
    "cosine_sim"
   ]
  },
  {
   "cell_type": "markdown",
   "metadata": {
    "id": "ZDMzLexxPzAi"
   },
   "source": [
    "+ We split genres into separate terms and join the tags.\n",
    "\n",
    "+ TF-IDF helps convert the text metadata (genres + tags) into numerical vectors.\n",
    "\n",
    "+ Cosine similarity is computed to measure how similar movies are based on their content."
   ]
  },
  {
   "cell_type": "markdown",
   "metadata": {
    "id": "ojh_tkmHP3yZ"
   },
   "source": [
    "### Generate Recommendations Based on Content Similarity\n",
    "\n",
    "Given a movie title, we use its cosine similarity score to recommend movies that have similar content (similar genres or tags)."
   ]
  },
  {
   "cell_type": "code",
   "execution_count": 91,
   "metadata": {
    "id": "IRQNb8xmPr6B"
   },
   "outputs": [],
   "source": [
    "# Define a function to recommend movies based on cosine similarity\n",
    "def recommend_movies_based_on_content(movie_title):\n",
    "    # Find the index of the given movie in the dataset\n",
    "    idx = movies_with_tags[movies_with_tags['title'] == movie_title].index[0]"
   ]
  },
  {
   "cell_type": "code",
   "execution_count": 92,
   "metadata": {
    "colab": {
     "base_uri": "https://localhost:8080/"
    },
    "id": "jdD5vGHFQL9l",
    "outputId": "c1634f1a-a18c-4e97-c917-5c9fef5f3b4e"
   },
   "outputs": [
    {
     "name": "stdout",
     "output_type": "stream",
     "text": [
      "1                                     Toy Story (1995)\n",
      "3214                                Toy Story 2 (1999)\n",
      "3217                                Toy Story 2 (1999)\n",
      "2484                              Bug's Life, A (1998)\n",
      "8672                                         Up (2009)\n",
      "2422                                       Antz (1998)\n",
      "3753    Adventures of Rocky and Bullwinkle, The (2000)\n",
      "3966                  Emperor's New Groove, The (2000)\n",
      "4633                             Monsters, Inc. (2001)\n",
      "7617                                  Wild, The (2006)\n",
      "Name: title, dtype: object\n"
     ]
    }
   ],
   "source": [
    "\n",
    "\n",
    "# Define a function to recommend movies based on cosine similarity\n",
    "def recommend_movies_based_on_content(movie_title, cosine_sim=cosine_sim, df_movies_with_tags=df_movies_with_tags):\n",
    "    try:\n",
    "        # Find the index of the given movie in the dataset\n",
    "        idx = df_movies_with_tags[df_movies_with_tags['title'] == movie_title].index[0]\n",
    "        # Get similarity scores for the movie, sorted by highest score\n",
    "        sim_scores = list(enumerate(cosine_sim[idx]))\n",
    "        sim_scores = sorted(sim_scores, key=lambda x: x[1], reverse=True)\n",
    "        # Get the top 10 most similar movies (excluding the movie itself)\n",
    "        sim_scores = sim_scores[1:11]\n",
    "        # Get the movie indices\n",
    "        movie_indices = [i[0] for i in sim_scores]\n",
    "        # Return the top 10 most similar movies\n",
    "        return df_movies_with_tags['title'].iloc[movie_indices]\n",
    "    except IndexError:\n",
    "        print(\"Movie not found in the dataset.\")\n",
    "        return []\n",
    "\n",
    "# Example: Recommend movies similar to \"Toy Story (1995)\"\n",
    "movies = df_movies\n",
    "tags = df_tags\n",
    "recommendations = recommend_movies_based_on_content(\"Toy Story (1995)\")\n",
    "print(recommendations)\n"
   ]
  },
  {
   "cell_type": "code",
   "execution_count": 93,
   "metadata": {
    "colab": {
     "base_uri": "https://localhost:8080/"
    },
    "id": "g6uuzmRtQdCB",
    "outputId": "a92e2b57-43d6-4221-a20c-d6a66e86c185"
   },
   "outputs": [
    {
     "name": "stdout",
     "output_type": "stream",
     "text": [
      "Movies similar to 'Toy Story (1995)':\n",
      "1                                     Toy Story (1995)\n",
      "3214                                Toy Story 2 (1999)\n",
      "3217                                Toy Story 2 (1999)\n",
      "2484                              Bug's Life, A (1998)\n",
      "8672                                         Up (2009)\n",
      "2422                                       Antz (1998)\n",
      "3753    Adventures of Rocky and Bullwinkle, The (2000)\n",
      "3966                  Emperor's New Groove, The (2000)\n",
      "4633                             Monsters, Inc. (2001)\n",
      "7617                                  Wild, The (2006)\n",
      "Name: title, dtype: object\n"
     ]
    }
   ],
   "source": [
    "# Example: Recommend movies similar to 'Toy Story (1995)'\n",
    "similar_movies = recommend_movies_based_on_content('Toy Story (1995)')\n",
    "print(f\"Movies similar to 'Toy Story (1995)':\\n{similar_movies}\")"
   ]
  },
  {
   "cell_type": "markdown",
   "metadata": {
    "id": "cT3Qdk_zQjKu"
   },
   "source": [
    "## Evaluation (RMSE Calculation)\n",
    "\n",
    "We evaluate the performance of our collaborative filtering model using Root Mean Squared Error (RMSE), a common metric to measure prediction accuracy."
   ]
  },
  {
   "cell_type": "code",
   "execution_count": 94,
   "metadata": {
    "id": "enuBSfpwQdiF"
   },
   "outputs": [],
   "source": [
    "# Flatten actual and predicted values to calculate RMSE\n",
    "actual = np.array(user_movie_matrix.iloc[user_id, :]).flatten()\n",
    "predicted = np.array(mean_ratings).flatten()"
   ]
  },
  {
   "cell_type": "code",
   "execution_count": 95,
   "metadata": {
    "id": "ZFTGWQltQpDx"
   },
   "outputs": [],
   "source": [
    "# Filter out movies that the user has actually rated (ignoring zero ratings)\n",
    "mask = actual > 0\n",
    "rmse = np.sqrt(mean_squared_error(actual[mask], predicted[mask]))"
   ]
  },
  {
   "cell_type": "code",
   "execution_count": 96,
   "metadata": {
    "colab": {
     "base_uri": "https://localhost:8080/"
    },
    "id": "4BDhtgtlQuSn",
    "outputId": "1a6a1aba-bdaf-41ed-870c-5d9a055f392d"
   },
   "outputs": [
    {
     "name": "stdout",
     "output_type": "stream",
     "text": [
      "RMSE for collaborative filtering: 3.1777174089327835\n"
     ]
    }
   ],
   "source": [
    "# Print the RMSE score\n",
    "print(f\"RMSE for collaborative filtering: {rmse}\")"
   ]
  },
  {
   "cell_type": "markdown",
   "metadata": {
    "id": "iuS9LvxlQ2LK"
   },
   "source": [
    "+ mean_squared_error calculates the squared difference between actual and predicted ratings.\n",
    "\n",
    "+ RMSE is the square root of this error, providing a measure of accuracy."
   ]
  },
  {
   "cell_type": "markdown",
   "metadata": {
    "id": "W_dUT3NbRK7h"
   },
   "source": [
    "- Model Accuracy\n",
    "\n",
    "Good Fit: A low RMSE suggests that your model fits the data well, capturing the underlying patterns effectively.\n",
    "\n",
    "Prediction Quality: It means that the differences between predicted and actual values (errors) are small. Therefore, your model is likely to make reliable predictions\n"
   ]
  },
  {
   "cell_type": "code",
   "execution_count": null,
   "metadata": {
    "id": "iz7IozKBQxSn"
   },
   "outputs": [],
   "source": []
  }
 ],
 "metadata": {
  "colab": {
   "provenance": []
  },
  "kernelspec": {
   "display_name": "Python 3",
   "language": "python",
   "name": "python3"
  },
  "language_info": {
   "codemirror_mode": {
    "name": "ipython",
    "version": 3
   },
   "file_extension": ".py",
   "mimetype": "text/x-python",
   "name": "python",
   "nbconvert_exporter": "python",
   "pygments_lexer": "ipython3",
   "version": "3.8.5"
  }
 },
 "nbformat": 4,
 "nbformat_minor": 1
}
